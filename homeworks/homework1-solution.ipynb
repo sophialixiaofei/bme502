{
 "metadata": {
  "name": "",
  "signature": "sha256:bb965f24184882c854ca803f7544396e40ad43e4622460bdbc58f754f785d961"
 },
 "nbformat": 3,
 "nbformat_minor": 0,
 "worksheets": [
  {
   "cells": [
    {
     "cell_type": "heading",
     "level": 1,
     "metadata": {},
     "source": [
      "Homework 1 (Solution)"
     ]
    },
    {
     "cell_type": "markdown",
     "metadata": {},
     "source": [
      "In this homework you will attempt to calculate epsilon.  Epsilon is the smallest possible number that added to 1.0 will result in a floating point number greater than 1.0. The standard floating point that is used in python is a 64-bit floating point IEEE 754.  You can either write a python script to find that number or alternatively try to calculate it from your knowledge of floating points.  If you write a script to numerically find it, you need to devise a strategy to find the absolute smallest number that fullfills the condition."
     ]
    },
    {
     "cell_type": "markdown",
     "metadata": {},
     "source": [
      "We first provide the solution that finds epsilon using the IEEE 754 definition"
     ]
    },
    {
     "cell_type": "markdown",
     "metadata": {},
     "source": [
      "According to the IEEE 754 definition: 3ff0 0000 0000 0000   = 1"
     ]
    },
    {
     "cell_type": "markdown",
     "metadata": {},
     "source": [
      "that means that the smallest number that is greater than 1 is: 3ff0 0000 0000 0001   = 1"
     ]
    },
    {
     "cell_type": "code",
     "collapsed": false,
     "input": [
      "eps=2**-52"
     ],
     "language": "python",
     "metadata": {},
     "outputs": [],
     "prompt_number": 2
    },
    {
     "cell_type": "code",
     "collapsed": false,
     "input": [
      "print eps"
     ],
     "language": "python",
     "metadata": {},
     "outputs": [
      {
       "output_type": "stream",
       "stream": "stdout",
       "text": [
        "2.22044604925e-16\n"
       ]
      }
     ],
     "prompt_number": 3
    },
    {
     "cell_type": "markdown",
     "metadata": {},
     "source": [
      "So lets try the iterative way.  We should start with something reasonable for eps_test"
     ]
    },
    {
     "cell_type": "code",
     "collapsed": false,
     "input": [
      "eps_test=1.0"
     ],
     "language": "python",
     "metadata": {},
     "outputs": [],
     "prompt_number": 6
    },
    {
     "cell_type": "code",
     "collapsed": false,
     "input": [
      "while (1.0+eps_test>1.0):\n",
      "    eps_old,eps_test=eps_test,eps_test/2.0\n",
      "print eps_old"
     ],
     "language": "python",
     "metadata": {},
     "outputs": [
      {
       "output_type": "stream",
       "stream": "stdout",
       "text": [
        "2.22044604925e-16\n"
       ]
      }
     ],
     "prompt_number": 7
    }
   ],
   "metadata": {}
  }
 ]
}