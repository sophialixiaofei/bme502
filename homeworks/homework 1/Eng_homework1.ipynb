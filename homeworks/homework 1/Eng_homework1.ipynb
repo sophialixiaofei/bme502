{
 "metadata": {
  "name": "",
  "signature": "sha256:26482ae0100f31c9b8ec1d1bfd9e895156640a1ac690a16c40c42622d41bbab2"
 },
 "nbformat": 3,
 "nbformat_minor": 0,
 "worksheets": [
  {
   "cells": [
    {
     "cell_type": "markdown",
     "metadata": {},
     "source": [
      "Quintin Eng\n",
      "108137468\n",
      "BME 502\n",
      "HW 1\n",
      "2/4/15"
     ]
    },
    {
     "cell_type": "code",
     "collapsed": false,
     "input": [
      "eps=1.0\n",
      "while 1.0+eps>1.0:\n",
      "    print \"epsilon is too big: \" +str(eps)\n",
      "    eps=eps*0.5\n",
      "else:\n",
      "    print \"epsilion is too small: \" + str(eps)\n",
      "    print \"double precision epsilon is approximately \" +str(eps/0.5)"
     ],
     "language": "python",
     "metadata": {},
     "outputs": [
      {
       "output_type": "stream",
       "stream": "stdout",
       "text": [
        "epsilon is too big: 1.0\n",
        "epsilon is too big: 0.5\n",
        "epsilon is too big: 0.25\n",
        "epsilon is too big: 0.125\n",
        "epsilon is too big: 0.0625\n",
        "epsilon is too big: 0.03125\n",
        "epsilon is too big: 0.015625\n",
        "epsilon is too big: 0.0078125\n",
        "epsilon is too big: 0.00390625\n",
        "epsilon is too big: 0.001953125\n",
        "epsilon is too big: 0.0009765625\n",
        "epsilon is too big: 0.00048828125\n",
        "epsilon is too big: 0.000244140625\n",
        "epsilon is too big: 0.0001220703125\n",
        "epsilon is too big: 6.103515625e-05\n",
        "epsilon is too big: 3.0517578125e-05\n",
        "epsilon is too big: 1.52587890625e-05\n",
        "epsilon is too big: 7.62939453125e-06\n",
        "epsilon is too big: 3.81469726562e-06\n",
        "epsilon is too big: 1.90734863281e-06\n",
        "epsilon is too big: 9.53674316406e-07\n",
        "epsilon is too big: 4.76837158203e-07\n",
        "epsilon is too big: 2.38418579102e-07\n",
        "epsilon is too big: 1.19209289551e-07\n",
        "epsilon is too big: 5.96046447754e-08\n",
        "epsilon is too big: 2.98023223877e-08\n",
        "epsilon is too big: 1.49011611938e-08\n",
        "epsilon is too big: 7.45058059692e-09\n",
        "epsilon is too big: 3.72529029846e-09\n",
        "epsilon is too big: 1.86264514923e-09\n",
        "epsilon is too big: 9.31322574615e-10\n",
        "epsilon is too big: 4.65661287308e-10\n",
        "epsilon is too big: 2.32830643654e-10\n",
        "epsilon is too big: 1.16415321827e-10\n",
        "epsilon is too big: 5.82076609135e-11\n",
        "epsilon is too big: 2.91038304567e-11\n",
        "epsilon is too big: 1.45519152284e-11\n",
        "epsilon is too big: 7.27595761418e-12\n",
        "epsilon is too big: 3.63797880709e-12\n",
        "epsilon is too big: 1.81898940355e-12\n",
        "epsilon is too big: 9.09494701773e-13\n",
        "epsilon is too big: 4.54747350886e-13\n",
        "epsilon is too big: 2.27373675443e-13\n",
        "epsilon is too big: 1.13686837722e-13\n",
        "epsilon is too big: 5.68434188608e-14\n",
        "epsilon is too big: 2.84217094304e-14\n",
        "epsilon is too big: 1.42108547152e-14\n",
        "epsilon is too big: 7.1054273576e-15\n",
        "epsilon is too big: 3.5527136788e-15\n",
        "epsilon is too big: 1.7763568394e-15\n",
        "epsilon is too big: 8.881784197e-16\n",
        "epsilon is too big: 4.4408920985e-16\n",
        "epsilon is too big: 2.22044604925e-16\n",
        "epsilion is too small: 1.11022302463e-16\n",
        "double precision epsilon is approximately 2.22044604925e-16\n"
       ]
      }
     ],
     "prompt_number": 1
    },
    {
     "cell_type": "code",
     "collapsed": false,
     "input": [],
     "language": "python",
     "metadata": {},
     "outputs": []
    }
   ],
   "metadata": {}
  }
 ]
}