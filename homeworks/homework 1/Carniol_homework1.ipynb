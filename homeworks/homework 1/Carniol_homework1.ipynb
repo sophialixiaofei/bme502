{
 "metadata": {
  "name": "",
  "signature": "sha256:6df82e6cf5a6ad2e1514965e08e948fd0eb366027c51ce490f660013355e2f81"
 },
 "nbformat": 3,
 "nbformat_minor": 0,
 "worksheets": [
  {
   "cells": [
    {
     "cell_type": "heading",
     "level": 1,
     "metadata": {},
     "source": [
      "Homework 1 - April Carniol"
     ]
    },
    {
     "cell_type": "markdown",
     "metadata": {},
     "source": [
      "This homework calculates Epsilon, the smallest possible number that added to 1.0 will result in a floating point number greater than 1.0. This strategy finds the absolute smallest number that fullfills the condition based on the fact that epsilon is a power of 2.\n",
      "\n",
      "(Although it prints a few decimals short, it saves as 2.220446049250313e-16 as seen in the Variable Explorer within Spyder.)"
     ]
    },
    {
     "cell_type": "code",
     "collapsed": false,
     "input": [
      "eps = 0.5\n",
      "print eps"
     ],
     "language": "python",
     "metadata": {},
     "outputs": [
      {
       "output_type": "stream",
       "stream": "stdout",
       "text": [
        "0.5\n"
       ]
      }
     ],
     "prompt_number": 81
    },
    {
     "cell_type": "code",
     "collapsed": false,
     "input": [
      "while 1.0+eps>1.0:\n",
      "    final_eps = eps\n",
      "    eps = eps*0.5\n",
      "print final_eps"
     ],
     "language": "python",
     "metadata": {},
     "outputs": [
      {
       "output_type": "stream",
       "stream": "stdout",
       "text": [
        "2.22044604925e-16\n"
       ]
      }
     ],
     "prompt_number": 82
    }
   ],
   "metadata": {}
  }
 ]
}