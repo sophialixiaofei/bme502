{
 "metadata": {
  "name": "",
  "signature": "sha256:ece8069dd0d62bfa9bdff879b81d45a0d61ebdc0c669db4f5dc0e7641fa37453"
 },
 "nbformat": 3,
 "nbformat_minor": 0,
 "worksheets": [
  {
   "cells": [
    {
     "cell_type": "heading",
     "level": 1,
     "metadata": {},
     "source": [
      "Homework 1"
     ]
    },
    {
     "cell_type": "heading",
     "level": 5,
     "metadata": {},
     "source": [
      "Epsilon value "
     ]
    },
    {
     "cell_type": "code",
     "collapsed": false,
     "input": [
      "eps=1.\n",
      "while eps+1>1:eps/=2\n",
      "print 2*eps\n"
     ],
     "language": "python",
     "metadata": {},
     "outputs": [
      {
       "output_type": "stream",
       "stream": "stdout",
       "text": [
        "2.22044604925e-16\n"
       ]
      }
     ],
     "prompt_number": 2
    },
    {
     "cell_type": "markdown",
     "metadata": {},
     "source": [
      "    %line 1: initialize the variable for the while loop\n",
      "    %line 2: eps+1>1 \n",
      "    %line 2: eps/=2 represents the highest number you can divide the value, and be the farthest away from zero. dividing by any number higher than 2 would result in a smaller ergo closer to zero. \n",
      "    %line 3: result kept coming as 1.11e-16. variable had to be multiplied by two"
     ]
    },
    {
     "cell_type": "code",
     "collapsed": false,
     "input": [],
     "language": "python",
     "metadata": {},
     "outputs": []
    }
   ],
   "metadata": {}
  }
 ]
}