{
 "metadata": {
  "name": "",
  "signature": "sha256:c6e91eb7927b8a7b70bcfddb2188b5dcee519e0d9520ada6b305fc39936ff598"
 },
 "nbformat": 3,
 "nbformat_minor": 0,
 "worksheets": [
  {
   "cells": [
    {
     "cell_type": "heading",
     "level": 1,
     "metadata": {},
     "source": [
      "Chu - Homework 1"
     ]
    },
    {
     "cell_type": "markdown",
     "metadata": {},
     "source": [
      "In this homework you will attempt to calculate epsilon. Epsilon is the smallest possible number that added to 1.0 will result in a floating point number greater than 1.0. The standard floating point that is used in python is a 64-bit floating point IEEE 764. You can either write a python script to find that number or alternatively try to calculate it from your knowledge of floating points. If you write a script to numerically find it, you need to devise a strategy to find the absolute smallest number that fullfills the condition."
     ]
    },
    {
     "cell_type": "code",
     "collapsed": false,
     "input": [
      "eps=1 # initiates epsilon as an arbitrary value that is way too large: 1\n",
      "print \"Initiation value:\", eps # lets user know what this initial value is\n",
      "\n",
      "while 1.0+eps>1.0: # the loop will run as long as the addition of epsilon to 1.0 exceeds 1.0, i.e. epsilon is discernably changing 1.0\n",
      "    eps=eps*0.5 # the next step of each loop: epsilon is divided by 2 to look for smaller and smaller potential values\n",
      "print \"Threshold found:\", eps*2 # once epsilon is small enough to not cause a difference when multiplied with 1.0, the loop stops and this command prints the final approximation as twice the value of 'eps' - because the loop stopped when epsilon was too small, and we're looking for the minimum discernible epsilon"
     ],
     "language": "python",
     "metadata": {},
     "outputs": [
      {
       "output_type": "stream",
       "stream": "stdout",
       "text": [
        "Initiation value: 1\n",
        "Threshold found: 2.22044604925e-16\n"
       ]
      }
     ],
     "prompt_number": 7
    }
   ],
   "metadata": {}
  }
 ]
}