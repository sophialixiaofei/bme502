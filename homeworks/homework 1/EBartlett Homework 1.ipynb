{
 "metadata": {
  "name": "",
  "signature": "sha256:5922747f4fe3f7066ea87f330c040d3e746f8c365885c4697fd3b20fdf1366d9"
 },
 "nbformat": 3,
 "nbformat_minor": 0,
 "worksheets": [
  {
   "cells": [
    {
     "cell_type": "heading",
     "level": 2,
     "metadata": {},
     "source": [
      "Homework 1"
     ]
    },
    {
     "cell_type": "heading",
     "level": 3,
     "metadata": {},
     "source": [
      "The goal of this homework is to write a python script in an iPython notebook that determines the value of epsilon, the smallest floating point number that when added to 1 is different than 1. We must assume that we don't know epsilon and determine it as accurately as possible."
     ]
    },
    {
     "cell_type": "code",
     "collapsed": false,
     "input": [
      "e=1;\n",
      "while 1.0 + e > 1.0:\n",
      "   epsilon = e;\n",
      "   e = e/1.00001;\n",
      "print \"Epsilon =\", epsilon"
     ],
     "language": "python",
     "metadata": {},
     "outputs": [
      {
       "output_type": "stream",
       "stream": "stdout",
       "text": [
        "Epsilon = 1.11022774654e-16\n"
       ]
      }
     ],
     "prompt_number": 8
    },
    {
     "cell_type": "code",
     "collapsed": false,
     "input": [],
     "language": "python",
     "metadata": {},
     "outputs": []
    }
   ],
   "metadata": {}
  }
 ]
}