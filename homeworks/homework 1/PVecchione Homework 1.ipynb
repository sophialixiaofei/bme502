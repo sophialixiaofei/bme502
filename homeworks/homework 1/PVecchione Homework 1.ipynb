{
 "metadata": {
  "name": "",
  "signature": "sha256:e1979c3976bfc69243f9f9520e2cb6c538f7280672a67bdd1439f1bdc24d0e1c"
 },
 "nbformat": 3,
 "nbformat_minor": 0,
 "worksheets": [
  {
   "cells": [
    {
     "cell_type": "code",
     "collapsed": false,
     "input": [
      "#Paul Vecchione\n",
      "#BME 502 - Homework 1\n",
      "#Due: Thursday, February 5\n",
      "\n",
      "i = 1.\n",
      "\n",
      "while 1 + i > 1:\n",
      "    i = i / 2.\n",
      "print i"
     ],
     "language": "python",
     "metadata": {},
     "outputs": [
      {
       "output_type": "stream",
       "stream": "stdout",
       "text": [
        "1.11022302463e-16\n"
       ]
      }
     ],
     "prompt_number": 1
    },
    {
     "cell_type": "code",
     "collapsed": false,
     "input": [],
     "language": "python",
     "metadata": {},
     "outputs": []
    }
   ],
   "metadata": {}
  }
 ]
}