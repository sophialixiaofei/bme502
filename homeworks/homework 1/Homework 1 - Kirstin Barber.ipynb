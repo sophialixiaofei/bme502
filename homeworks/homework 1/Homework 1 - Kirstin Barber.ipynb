{
 "metadata": {
  "name": "",
  "signature": "sha256:f7eca79120d0e3b5480167e161690cf0fedd82b6b8b6a0d836daae52bb2d552f"
 },
 "nbformat": 3,
 "nbformat_minor": 0,
 "worksheets": [
  {
   "cells": [
    {
     "cell_type": "heading",
     "level": 1,
     "metadata": {},
     "source": [
      "Homework 1 - Kirstin Barber"
     ]
    },
    {
     "cell_type": "markdown",
     "metadata": {},
     "source": [
      "This script will calculate the smallest value for epsilon for which 1.0 + epsilon > 1.0"
     ]
    },
    {
     "cell_type": "code",
     "collapsed": false,
     "input": [
      "epsilon = 1.0\n",
      "while epsilon + 1.0 > 1.0:\n",
      "    # This while loop will continue running until epsilon reaches a value where this condition is no longer true.\n",
      "    epsilon /= 1.000001 \n",
      "    # This value was chosen as a divisor for epsilon in order to minimize the step between consecutive epsilon values.\n",
      "    # In other words, it is to avoid 'overshooting' and obtaining a falsely low value for epsilon.\n",
      "    # If another zero is added in an attempt to obtain a more accurate result, the program takes too long to run.\n",
      "print \"Epsilon =\", epsilon"
     ],
     "language": "python",
     "metadata": {},
     "outputs": [
      {
       "output_type": "stream",
       "stream": "stdout",
       "text": [
        "Epsilon = 1.11022295923e-16\n"
       ]
      }
     ],
     "prompt_number": 1
    }
   ],
   "metadata": {}
  }
 ]
}