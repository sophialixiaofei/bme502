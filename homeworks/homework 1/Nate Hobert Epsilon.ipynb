{
 "metadata": {
  "name": "",
  "signature": "sha256:b52932923bfa061a389186e25462c20c16e576886798b15acb8ca2d5771d1f3c"
 },
 "nbformat": 3,
 "nbformat_minor": 0,
 "worksheets": [
  {
   "cells": [
    {
     "cell_type": "code",
     "collapsed": false,
     "input": [
      "# declare variables \n",
      "# one is used to hold the 1.0 value\n",
      "# epsilon is used to hold the epsilon value\n",
      "\n",
      "one = 1.0\n",
      "epsilon = 1.0"
     ],
     "language": "python",
     "metadata": {},
     "outputs": []
    },
    {
     "cell_type": "code",
     "collapsed": false,
     "input": [
      "# this while loop will run until the value of\n",
      "# epsilon divided by 2 does not add with 1.0\n",
      "# to create a number greater than 1.0\n",
      "\n",
      "#0.5 represented by a 64 bit double has an exponent of 2^-1\n",
      "#0.25 is represented by 2^-2\n",
      "#0.125 is represented by 2^-3\n",
      "#so on and so forth until 2^-52 is reached\n",
      "#dividing by two changes the exponent by 1\n",
      "#determined by ln(1/2)/ln(2) = -1\n",
      "#ln(1/4)/ln(2) = -2\n",
      "#these values are added to the bias of 1023\n",
      "\n",
      "while one+0.5*epsilon != 1.0:  \n",
      "    epsilon = 0.5*epsilon     "
     ],
     "language": "python",
     "metadata": {},
     "outputs": []
    }
   ],
   "metadata": {}
  }
 ]
}