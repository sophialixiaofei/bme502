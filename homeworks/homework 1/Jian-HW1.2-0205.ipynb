{
 "metadata": {
  "name": "",
  "signature": "sha256:8da84e94ec81a5181dad89c40ea330f5b93d4f48cb22005afccc2b6f73b5956c"
 },
 "nbformat": 3,
 "nbformat_minor": 0,
 "worksheets": [
  {
   "cells": [
    {
     "cell_type": "code",
     "collapsed": false,
     "input": [
      "import sys\n",
      "import numpy\n",
      "print 'epsilon=%.50e.' % sys.float_info.epsilon #output 50 decimals"
     ],
     "language": "python",
     "metadata": {},
     "outputs": [
      {
       "output_type": "stream",
       "stream": "stdout",
       "text": [
        "epsilon=2.22044604925031308084726333618164062500000000000000e-16.\n"
       ]
      }
     ],
     "prompt_number": 1
    },
    {
     "cell_type": "code",
     "collapsed": false,
     "input": [],
     "language": "python",
     "metadata": {},
     "outputs": [],
     "prompt_number": 1
    }
   ],
   "metadata": {}
  }
 ]
}