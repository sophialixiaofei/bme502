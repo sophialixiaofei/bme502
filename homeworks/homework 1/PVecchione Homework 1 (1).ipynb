{
 "metadata": {
  "name": "",
  "signature": "sha256:aa61a7bb721e2e8b8f7248c96f355e26f2eb341bea7b42dbf1ef2ed056b0cdf2"
 },
 "nbformat": 3,
 "nbformat_minor": 0,
 "worksheets": [
  {
   "cells": [
    {
     "cell_type": "code",
     "collapsed": false,
     "input": [
      "#Paul Vecchione\n",
      "#BME 502 - Homework 1\n",
      "#Due: Thursday, February 5\n",
      "\n",
      "i = 1.\n",
      "\n",
      "while 1 + i > 1:\n",
      "    i = i / 2.\n",
      "print i * 2."
     ],
     "language": "python",
     "metadata": {},
     "outputs": [
      {
       "output_type": "stream",
       "stream": "stdout",
       "text": [
        "2.22044604925e-16\n"
       ]
      }
     ],
     "prompt_number": 1
    },
    {
     "cell_type": "code",
     "collapsed": false,
     "input": [],
     "language": "python",
     "metadata": {},
     "outputs": []
    }
   ],
   "metadata": {}
  }
 ]
}