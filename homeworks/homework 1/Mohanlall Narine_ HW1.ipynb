{
 "metadata": {
  "name": "",
  "signature": "sha256:1b05774cdbc5cdbd43074aeb5e15756597a028af807ed3ae738dca6943020759"
 },
 "nbformat": 3,
 "nbformat_minor": 0,
 "worksheets": [
  {
   "cells": [
    {
     "cell_type": "heading",
     "level": 1,
     "metadata": {},
     "source": [
      "Homework #1"
     ]
    },
    {
     "cell_type": "heading",
     "level": 4,
     "metadata": {},
     "source": [
      "Introduction:"
     ]
    },
    {
     "cell_type": "markdown",
     "metadata": {},
     "source": [
      "Epsilon=2.2 x 10^-16 (for double floating point number-64 bit)\n",
      "Epsilon is the lowest number for which when added to 1 is greater than 1. By knowing epsilon we are aware of the rounding error our code is subjected to. This information is useful in concepts such as logic statements."
     ]
    },
    {
     "cell_type": "heading",
     "level": 4,
     "metadata": {},
     "source": [
      "Code:"
     ]
    },
    {
     "cell_type": "code",
     "collapsed": false,
     "input": [
      "e=1. #intializes the variable e for use in while loop\n",
      "while e+1>1: #the variable e is being added to 1 so that any value greater than 1 is recorded. \n",
      "    e/=2 #dividing e by 2 (lowest divisor) allows us to perform subsequent divisions until the smallest number of e is met \n",
      "    print 2*e #since in the previous step we divided by 2 we must now multiply by 2 to obtain the ACTUAL epsilon value"
     ],
     "language": "python",
     "metadata": {},
     "outputs": [
      {
       "output_type": "stream",
       "stream": "stdout",
       "text": [
        "1.0\n",
        "0.5\n",
        "0.25\n",
        "0.125\n",
        "0.0625\n",
        "0.03125\n",
        "0.015625\n",
        "0.0078125\n",
        "0.00390625\n",
        "0.001953125\n",
        "0.0009765625\n",
        "0.00048828125\n",
        "0.000244140625\n",
        "0.0001220703125\n",
        "6.103515625e-05\n",
        "3.0517578125e-05\n",
        "1.52587890625e-05\n",
        "7.62939453125e-06\n",
        "3.81469726562e-06\n",
        "1.90734863281e-06\n",
        "9.53674316406e-07\n",
        "4.76837158203e-07\n",
        "2.38418579102e-07\n",
        "1.19209289551e-07\n",
        "5.96046447754e-08\n",
        "2.98023223877e-08\n",
        "1.49011611938e-08\n",
        "7.45058059692e-09\n",
        "3.72529029846e-09\n",
        "1.86264514923e-09\n",
        "9.31322574615e-10\n",
        "4.65661287308e-10\n",
        "2.32830643654e-10\n",
        "1.16415321827e-10\n",
        "5.82076609135e-11\n",
        "2.91038304567e-11\n",
        "1.45519152284e-11\n",
        "7.27595761418e-12\n",
        "3.63797880709e-12\n",
        "1.81898940355e-12\n",
        "9.09494701773e-13\n",
        "4.54747350886e-13\n",
        "2.27373675443e-13\n",
        "1.13686837722e-13\n",
        "5.68434188608e-14\n",
        "2.84217094304e-14\n",
        "1.42108547152e-14\n",
        "7.1054273576e-15\n",
        "3.5527136788e-15\n",
        "1.7763568394e-15\n",
        "8.881784197e-16\n",
        "4.4408920985e-16\n",
        "2.22044604925e-16\n"
       ]
      }
     ],
     "prompt_number": 3
    },
    {
     "cell_type": "markdown",
     "metadata": {},
     "source": [
      "The end. :)"
     ]
    }
   ],
   "metadata": {}
  }
 ]
}