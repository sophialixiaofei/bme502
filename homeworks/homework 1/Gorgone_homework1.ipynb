{
 "metadata": {
  "name": "",
  "signature": "sha256:6fbce7f7697e4d063f4fea427075a1770967f2d2fe8f4700127926f65d905ceb"
 },
 "nbformat": 3,
 "nbformat_minor": 0,
 "worksheets": [
  {
   "cells": [
    {
     "cell_type": "heading",
     "level": 1,
     "metadata": {},
     "source": [
      "Chris Gorgone\n",
      "Homework 1"
     ]
    },
    {
     "cell_type": "markdown",
     "metadata": {},
     "source": [
      "In this homework you will attempt to calculate epsilon.  Epsilon is the smallest possible number that added to 1.0 will result in a floating point number greater than 1.0. The standard floating point that is used in python is a 64-bit floating point IEEE 764.  You can either write a python script to find that number or alternatively try to calculate it from your knowledge of floating points.  If you write a script to numerically find it, you need to devise a strategy to find the absolute smallest number that fullfills the condition."
     ]
    },
    {
     "cell_type": "code",
     "collapsed": false,
     "input": [
      "eps=1e-20\n",
      "while 1.0+eps==1.0:\n",
      "    eps=eps+1e-20\n",
      "print eps\n",
      "test=1.0+eps\n",
      "print test"
     ],
     "language": "python",
     "metadata": {},
     "outputs": [
      {
       "output_type": "stream",
       "stream": "stdout",
       "text": [
        "1.1103e-16\n",
        "1.0\n"
       ]
      }
     ],
     "prompt_number": 7
    },
    {
     "cell_type": "code",
     "collapsed": false,
     "input": [],
     "language": "python",
     "metadata": {},
     "outputs": []
    },
    {
     "cell_type": "markdown",
     "metadata": {},
     "source": [
      "In the variable explorer in Spyder, values are eps=1.1102999999999248e-16 and test=1.0000000000000002. However, when it prints the variables it seems to round the values, and gives eps=1.1103e-6 and test=1.0. I don't know how to print the correct values here or in the console, but I emailed you with an attached screenshot of Spyder to confirm the values."
     ]
    }
   ],
   "metadata": {}
  }
 ]
}