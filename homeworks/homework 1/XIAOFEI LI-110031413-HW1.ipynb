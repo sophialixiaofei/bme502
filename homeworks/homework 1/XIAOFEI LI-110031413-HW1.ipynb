{
 "metadata": {
  "name": "",
  "signature": "sha256:098e2a28762d7e58f69ce471c71e579308728ecfaafb3fc3074fd0496aabf67c"
 },
 "nbformat": 3,
 "nbformat_minor": 0,
 "worksheets": [
  {
   "cells": [
    {
     "cell_type": "heading",
     "level": 1,
     "metadata": {},
     "source": [
      "Homework1\n",
      "\n"
     ]
    },
    {
     "cell_type": "markdown",
     "metadata": {},
     "source": [
      "In this homework you will attempt to calculate epsilon.  Epsilon is the smallest possible number that added to 1.0 will result in a floating point number greater than 1.0. The standard floating point that is used in python is a 64-bit floating point IEEE 764.  You can either write a python script to find that number or alternatively try to calculate it from your knowledge of floating points.  If you write a script to numerically find it, you need to devise a strategy to find the absolute smallest number that fullfills the condition."
     ]
    },
    {
     "cell_type": "markdown",
     "metadata": {},
     "source": [
      "Answer: According to Wikipedia, the machine epsilon can be calculated based on the formula:\n",
      "        epsilon=b/2\u00d7b^(-p)  b=2\n",
      "        Therefore, epsilon=1\u00d72^(-p)=0.5^(p)."
     ]
    },
    {
     "cell_type": "code",
     "collapsed": false,
     "input": [
      "epsilon=1\n",
      "while (epsilon+1>1):\n",
      "    epsilon=0.5*epsilon\n",
      "    "
     ],
     "language": "python",
     "metadata": {},
     "outputs": [],
     "prompt_number": 4
    },
    {
     "cell_type": "code",
     "collapsed": false,
     "input": [
      "print epsilon"
     ],
     "language": "python",
     "metadata": {},
     "outputs": [
      {
       "output_type": "stream",
       "stream": "stdout",
       "text": [
        "1.11022302463e-16\n"
       ]
      }
     ],
     "prompt_number": 5
    }
   ],
   "metadata": {}
  }
 ]
}