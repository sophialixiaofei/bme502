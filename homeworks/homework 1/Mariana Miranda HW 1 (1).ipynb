{
 "metadata": {
  "name": "",
  "signature": "sha256:0b8acffef0d138294bda76a1a92c9acc2662227436a69e5a8186bcac6995aa7f"
 },
 "nbformat": 3,
 "nbformat_minor": 0,
 "worksheets": [
  {
   "cells": [
    {
     "cell_type": "heading",
     "level": 1,
     "metadata": {},
     "source": [
      "Homework 1"
     ]
    },
    {
     "cell_type": "heading",
     "level": 5,
     "metadata": {},
     "source": [
      "Epsilon value "
     ]
    },
    {
     "cell_type": "code",
     "collapsed": false,
     "input": [
      "eps=1.                    # initialize the variable for the while loop\n",
      "while eps+1>1:eps/=2      # eps/=2 represents the highest number you can divide the value, and be the farthest away from zero. \n",
      "                          # dividing by any number higher than 2 would result in a smaller ergo closer to zero. \n",
      "print 2*eps               # The final loop divides epsilon by 2 again. Result needs to be multiplied by 2 in order to give the \n",
      "                          # correct answer. \n"
     ],
     "language": "python",
     "metadata": {},
     "outputs": [
      {
       "output_type": "stream",
       "stream": "stdout",
       "text": [
        "2.22044604925e-16\n"
       ]
      }
     ],
     "prompt_number": 3
    },
    {
     "cell_type": "markdown",
     "metadata": {},
     "source": []
    },
    {
     "cell_type": "code",
     "collapsed": false,
     "input": [],
     "language": "python",
     "metadata": {},
     "outputs": []
    },
    {
     "cell_type": "code",
     "collapsed": false,
     "input": [],
     "language": "python",
     "metadata": {},
     "outputs": []
    }
   ],
   "metadata": {}
  }
 ]
}