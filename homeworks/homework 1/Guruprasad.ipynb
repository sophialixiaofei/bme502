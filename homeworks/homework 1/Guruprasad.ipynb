{
 "metadata": {
  "name": "",
  "signature": "sha256:4dd620fce678a429b32213be786d8385be502eabdcab9d10020cbfe6bf5cef20"
 },
 "nbformat": 3,
 "nbformat_minor": 0,
 "worksheets": [
  {
   "cells": [
    {
     "cell_type": "code",
     "collapsed": false,
     "input": [
      "epsilon=1.\n",
      "while epsilon+1>1:epsilon/=2\n",
      "print epsilon"
     ],
     "language": "python",
     "metadata": {},
     "outputs": [
      {
       "output_type": "stream",
       "stream": "stdout",
       "text": [
        "1.11022302463e-16\n"
       ]
      }
     ],
     "prompt_number": 1
    },
    {
     "cell_type": "code",
     "collapsed": false,
     "input": [],
     "language": "python",
     "metadata": {},
     "outputs": []
    }
   ],
   "metadata": {}
  }
 ]
}