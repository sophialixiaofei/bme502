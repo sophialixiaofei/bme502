{
 "metadata": {
  "name": "",
  "signature": "sha256:e91e23e76277ffdc7f38d5dd9140c16e2941c963b87a6cb2f7a35db373554232"
 },
 "nbformat": 3,
 "nbformat_minor": 0,
 "worksheets": [
  {
   "cells": [
    {
     "cell_type": "heading",
     "level": 1,
     "metadata": {},
     "source": [
      "Homework # 1 - Find Epsilon"
     ]
    },
    {
     "cell_type": "heading",
     "level": 4,
     "metadata": {},
     "source": [
      "In this homework you will attempt to calculate epsilon. Epsilon is the smallest possible number that added to 1.0 will result in a floating point number greater than 1.0. The standard floating point that is used in python is a 64-bit floating point IEEE 764. You can either write a python script to find that number or alternatively try to calculate it from your knowledge of floating points. If you write a script to numerically find it, you need to devise a strategy to find the absolute smallest number that fullfills the condition."
     ]
    },
    {
     "cell_type": "code",
     "collapsed": false,
     "input": [
      "a = 0                            #Initial value of a is 0 \n",
      "for i in range(0,105):           #Number of iterations the for loop will run\n",
      "    if 1.0 + a == 1.0: \n",
      "        a = a + 0.0000000001     #Adds 1e-10 for a case where 1.0 + a = 1.0\n",
      "        continue\n",
      "    elif 1.0 + a > 1.0:\n",
      "        a = a/2                  #Divides a by 2 in order to check for a smaller epsilon \n",
      "        continue\n",
      "    else:\n",
      "        break\n",
      "print \"epsilon =\"\n",
      "print a"
     ],
     "language": "python",
     "metadata": {},
     "outputs": [
      {
       "output_type": "stream",
       "stream": "stdout",
       "text": [
        "epsilon =\n",
        "9.53675225902e-17\n"
       ]
      }
     ],
     "prompt_number": 27
    }
   ],
   "metadata": {}
  }
 ]
}