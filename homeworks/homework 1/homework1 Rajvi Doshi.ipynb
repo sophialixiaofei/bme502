{
 "metadata": {
  "name": "",
  "signature": "sha256:1b5bbd1543fbfc39f885b75509364acfd6e05fba4fae3f7a0119f2aaba8f3eb2"
 },
 "nbformat": 3,
 "nbformat_minor": 0,
 "worksheets": [
  {
   "cells": [
    {
     "cell_type": "heading",
     "level": 1,
     "metadata": {},
     "source": [
      "Homework 1"
     ]
    },
    {
     "cell_type": "markdown",
     "metadata": {},
     "source": [
      "In this homework you will attempt to calculate epsilon.  Epsilon is the smallest possible number that added to 1.0 will result in a floating point number greater than 1.0. The standard floating point that is used in python is a 64-bit floating point IEEE 764.  You can either write a python script to find that number or alternatively try to calculate it from your knowledge of floating points.  If you write a script to numerically find it, you need to devise a strategy to find the absolute smallest number that fullfills the condition."
     ]
    },
    {
     "cell_type": "code",
     "collapsed": false,
     "input": [
      "eps=1e-15\n",
      "print eps"
     ],
     "language": "python",
     "metadata": {},
     "outputs": [
      {
       "output_type": "stream",
       "stream": "stdout",
       "text": [
        "1e-15\n"
       ]
      }
     ],
     "prompt_number": 11
    },
    {
     "cell_type": "code",
     "collapsed": false,
     "input": [
      "if 1.0+eps>1.0:\n",
      "    print \"still adding\"\n",
      "else:\n",
      "    print \"too small\""
     ],
     "language": "python",
     "metadata": {},
     "outputs": [
      {
       "output_type": "stream",
       "stream": "stdout",
       "text": [
        "still adding\n"
       ]
      }
     ],
     "prompt_number": 12
    },
    {
     "cell_type": "code",
     "collapsed": false,
     "input": [
      "# to find the most approximate lowest value of epsilon in 1+epsilon>1, here epsilon=x. Referred syntax from python.org and lynda.com\n",
      "\n",
      "x=1.0\n",
      "while 1: # will remain in the while loop till it breaks\n",
      "    if x+1>1: \n",
      "        x=x/2 # to find the value of x (epsilon) with the rate of 50% omission\n",
      "    else:  #the control will come to this part whenever the 'if' condition is not satisfied\n",
      "        break  # will come out from the while loop\n",
      "        \n",
      "x=x*2  # lowest most desired value of x satisfying the condition will be divided by 2 due to command execution of 'if else' loop.Hence multiplying that value by 2 is the actual value of epsilon that we are looking for.\n",
      "print x"
     ],
     "language": "python",
     "metadata": {},
     "outputs": [
      {
       "output_type": "stream",
       "stream": "stdout",
       "text": [
        "2.22044604925e-16\n"
       ]
      }
     ],
     "prompt_number": 1
    },
    {
     "cell_type": "code",
     "collapsed": false,
     "input": [],
     "language": "python",
     "metadata": {},
     "outputs": []
    }
   ],
   "metadata": {}
  }
 ]
}