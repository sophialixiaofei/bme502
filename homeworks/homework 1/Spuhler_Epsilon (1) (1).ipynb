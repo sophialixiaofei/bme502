{
 "metadata": {
  "name": "",
  "signature": "sha256:ee308e81503b19a29f1cd61940e432bc0d2d741822ae427919151c4835a7e604"
 },
 "nbformat": 3,
 "nbformat_minor": 0,
 "worksheets": [
  {
   "cells": [
    {
     "cell_type": "code",
     "collapsed": false,
     "input": [
      "########################################################################\n",
      "#This program is meant to find an accurate estimate of machine epsilon.#\n",
      "########################################################################\n",
      "\n",
      "#Author: Karl Spuhler\n",
      "#Course: BME 502\n",
      "\n",
      "def EpsilonSearch():\n",
      "    \n",
      "    feed = 1.0\n",
      "    while (1.0 + feed) > 1.0:\n",
      "        epsilon = feed\n",
      "        feed = feed/2\n",
      "    \n",
      "    print \"Epsilon is %.37e\" %epsilon\n",
      "    return epsilon\n",
      "       \n",
      "EpsilonSearch()\n"
     ],
     "language": "python",
     "metadata": {},
     "outputs": [
      {
       "output_type": "stream",
       "stream": "stdout",
       "text": [
        "Epsilon is 2.2204460492503130808472633361816406250e-16\n"
       ]
      },
      {
       "metadata": {},
       "output_type": "pyout",
       "prompt_number": 1,
       "text": [
        "2.220446049250313e-16"
       ]
      }
     ],
     "prompt_number": 1
    },
    {
     "cell_type": "code",
     "collapsed": false,
     "input": [],
     "language": "python",
     "metadata": {},
     "outputs": []
    }
   ],
   "metadata": {}
  }
 ]
}