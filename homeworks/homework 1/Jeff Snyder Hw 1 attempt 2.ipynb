{
 "metadata": {
  "name": "",
  "signature": "sha256:2d21d87c32b4c40aa305b084d781cf72c679f995416b059af3527623631d9088"
 },
 "nbformat": 3,
 "nbformat_minor": 0,
 "worksheets": [
  {
   "cells": [
    {
     "cell_type": "code",
     "collapsed": false,
     "input": [
      "epsilon=1.0\n",
      "while 1.0+epsilon>1.0:\n",
      "    epsilon=epsilon/2.0\n",
      "epsilon=2.0*epsilon\n",
      "print epsilon"
     ],
     "language": "python",
     "metadata": {},
     "outputs": [
      {
       "output_type": "stream",
       "stream": "stdout",
       "text": [
        "2.22044604925e-16\n"
       ]
      }
     ],
     "prompt_number": 1
    },
    {
     "cell_type": "code",
     "collapsed": false,
     "input": [],
     "language": "python",
     "metadata": {},
     "outputs": []
    }
   ],
   "metadata": {}
  }
 ]
}