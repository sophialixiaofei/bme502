{
 "metadata": {
  "name": "",
  "signature": "sha256:37f8439014429780fc0e30dc558b2d6be053540329c1b123972c714e400006b5"
 },
 "nbformat": 3,
 "nbformat_minor": 0,
 "worksheets": [
  {
   "cells": [
    {
     "cell_type": "heading",
     "level": 1,
     "metadata": {},
     "source": [
      "Homework 1"
     ]
    },
    {
     "cell_type": "markdown",
     "metadata": {},
     "source": [
      "In this homework you will attempt to calculate epsilon.  Epsilon is the smallest possible number that added to 1.0 will result in a floating point number greater than 1.0. The standard floating point that is used in python is a 64-bit floating point IEEE 764.  You can either write a python script to find that number or alternatively try to calculate it from your knowledge of floating points.  If you write a script to numerically find it, you need to devise a strategy to find the absolute smallest number that fullfills the condition."
     ]
    },
    {
     "cell_type": "code",
     "collapsed": false,
     "input": [
      "eps=1e-15\n",
      "print eps"
     ],
     "language": "python",
     "metadata": {},
     "outputs": [
      {
       "output_type": "stream",
       "stream": "stdout",
       "text": [
        "1e-15\n"
       ]
      }
     ],
     "prompt_number": 11
    },
    {
     "cell_type": "code",
     "collapsed": false,
     "input": [
      "if 1.0+eps>1.0:\n",
      "    print \"still adding\"\n",
      "else:\n",
      "    print \"too small\""
     ],
     "language": "python",
     "metadata": {},
     "outputs": [
      {
       "output_type": "stream",
       "stream": "stdout",
       "text": [
        "still adding\n"
       ]
      }
     ],
     "prompt_number": 12
    },
    {
     "cell_type": "code",
     "collapsed": false,
     "input": [
      "def machineEpsilon(func = float):\n",
      "     machine_epsilon = func(1)\n",
      "     while func(1)+func(machine_epsilon) != func(1):\n",
      "         machine_epsilon_last = machine_epsilon\n",
      "         machine_epsilon = func(machine_epsilon) / func(2)\n",
      "     return machine_epsilon_last"
     ],
     "language": "python",
     "metadata": {},
     "outputs": [],
     "prompt_number": 10
    },
    {
     "cell_type": "code",
     "collapsed": false,
     "input": [
      "machineEpsilon(float)"
     ],
     "language": "python",
     "metadata": {},
     "outputs": [
      {
       "metadata": {},
       "output_type": "pyout",
       "prompt_number": 11,
       "text": [
        "2.220446049250313e-16"
       ]
      }
     ],
     "prompt_number": 11
    },
    {
     "cell_type": "code",
     "collapsed": false,
     "input": [],
     "language": "python",
     "metadata": {},
     "outputs": [],
     "prompt_number": 3
    },
    {
     "cell_type": "code",
     "collapsed": false,
     "input": [],
     "language": "python",
     "metadata": {},
     "outputs": [],
     "prompt_number": 7
    },
    {
     "cell_type": "code",
     "collapsed": false,
     "input": [],
     "language": "python",
     "metadata": {},
     "outputs": [],
     "prompt_number": 7
    },
    {
     "cell_type": "code",
     "collapsed": false,
     "input": [],
     "language": "python",
     "metadata": {},
     "outputs": [],
     "prompt_number": 7
    },
    {
     "cell_type": "code",
     "collapsed": false,
     "input": [],
     "language": "python",
     "metadata": {},
     "outputs": [],
     "prompt_number": 7
    },
    {
     "cell_type": "code",
     "collapsed": false,
     "input": [],
     "language": "python",
     "metadata": {},
     "outputs": []
    }
   ],
   "metadata": {}
  }
 ]
}