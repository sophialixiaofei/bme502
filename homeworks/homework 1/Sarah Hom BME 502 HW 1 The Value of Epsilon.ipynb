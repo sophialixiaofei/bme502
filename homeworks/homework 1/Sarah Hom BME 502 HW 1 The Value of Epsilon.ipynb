{
 "metadata": {
  "name": "",
  "signature": "sha256:7556ab431a17bdce0bc8472e0edf31ac231a3df4b14a934b9cb1cde96caab3ee"
 },
 "nbformat": 3,
 "nbformat_minor": 0,
 "worksheets": [
  {
   "cells": [
    {
     "cell_type": "code",
     "collapsed": false,
     "input": [
      "# -*- coding: utf-8 -*-\n",
      "\"\"\"\n",
      "Created on Mon Feb 02 13:26:24 2015\n",
      "\n",
      "@author: Sarah\n",
      "\"\"\"\n",
      "\n",
      "\"\"\"\n",
      "blah() lets you check a particular number to see if it is not epsilon, or if it\n",
      "greater or equal than epsilon.\n",
      "\n",
      "\"\"\"\n",
      "\n",
      "def blah(a):\n",
      "    if 1 + a > 1:\n",
      "        print a, \"=> epilson\"\n",
      "    elif 1 + a == 1:\n",
      "        print a, \"is too small\"\n",
      "    else:\n",
      "        print \"Check\"\n",
      "\n",
      "# epsilon() searches for epsilon\n",
      "def epsilon():\n",
      "    # the value of epsilon is between the values of low and high.\n",
      "    # The initial value of high was checked by the use of blah().\n",
      "    low = 0\n",
      "    high = 1e-15\n",
      "    # mid is the value of the midpoint between low and high\n",
      "    # temp is the previous value of mid in the iteration. \n",
      "    mid = (high - low)/2 + low\n",
      "    temp = 0    \n",
      "    #i = 1\n",
      "    #for i in range(2000):\n",
      "    # It does a binary search. It stops the binary search when the difference between the mid values of two consecutive iteratives is zero.\n",
      "    while mid-temp != 0:\n",
      "        if 1 + mid > 1:\n",
      "            high = mid\n",
      "            temp = mid\n",
      "            mid = (mid - low)/2 + low\n",
      "            #i=i+1\n",
      "            #print i, high, mid, low, \"bigger\"\n",
      "        elif 1 + mid == 1:\n",
      "            low = mid\n",
      "            temp = mid\n",
      "            mid = (high - mid)/2 + mid\n",
      "            #i=i+1\n",
      "            #print i, high, mid, low, \"zero\"\n",
      "    mid = mid *2 # At this point, 1 + mid == 0. However, epsilon is slightly bigger than mid so that 1 + epsilon >0. Since the smallest increment is mid, the next biggest one is double mid. Epsilon is double mid. \n",
      "    print \"The value of epsilon is\"\n",
      "    print mid\n",
      "epsilon()\n",
      "    \n",
      "    \n",
      "\n",
      "        \n",
      "        "
     ],
     "language": "python",
     "metadata": {},
     "outputs": [
      {
       "output_type": "stream",
       "stream": "stdout",
       "text": [
        "The value of epsilon is\n",
        "2.22044604925e-16\n"
       ]
      }
     ],
     "prompt_number": 3
    },
    {
     "cell_type": "code",
     "collapsed": false,
     "input": [],
     "language": "python",
     "metadata": {},
     "outputs": []
    }
   ],
   "metadata": {}
  }
 ]
}