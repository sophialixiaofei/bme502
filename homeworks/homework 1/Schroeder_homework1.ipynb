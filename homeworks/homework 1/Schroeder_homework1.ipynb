{
 "metadata": {
  "name": "",
  "signature": "sha256:5220ebf0274eb53b2044ff5a2c92f546c2e1b28b489977f1ca2b00df739f7b01"
 },
 "nbformat": 3,
 "nbformat_minor": 0,
 "worksheets": [
  {
   "cells": [
    {
     "cell_type": "heading",
     "level": 1,
     "metadata": {},
     "source": [
      "Homework 1"
     ]
    },
    {
     "cell_type": "markdown",
     "metadata": {},
     "source": [
      "In this homework you will attempt to calculate epsilon.  Epsilon is the smallest possible number that added to 1.0 will result in a floating point number greater than 1.0. The standard floating point that is used in python is a 64-bit floating point IEEE 764.  You can either write a python script to find that number or alternatively try to calculate it from your knowledge of floating points.  If you write a script to numerically find it, you need to devise a strategy to find the absolute smallest number that fullfills the condition."
     ]
    },
    {
     "cell_type": "code",
     "collapsed": false,
     "input": [
      "# Bryce Schroeder, bryce.schroeder@gmail.com\n",
      "# Epsilon for a python implementation is provided in the\n",
      "# standard library.\n",
      "import sys\n",
      "print sys.float_info.epsilon"
     ],
     "language": "python",
     "metadata": {},
     "outputs": [
      {
       "output_type": "stream",
       "stream": "stdout",
       "text": [
        "2.22044604925e-16\n"
       ]
      }
     ],
     "prompt_number": 5
    },
    {
     "cell_type": "code",
     "collapsed": false,
     "input": [
      "# Demonstrate that this works as expected\n",
      "print 1.0 + sys.float_info.epsilon == 1.0,\n",
      "print 1.0 + (sys.float_info.epsilon-sys.float_info.epsilon/2) == 1.0"
     ],
     "language": "python",
     "metadata": {},
     "outputs": [
      {
       "output_type": "stream",
       "stream": "stdout",
       "text": [
        "False True\n"
       ]
      }
     ],
     "prompt_number": 10
    },
    {
     "cell_type": "code",
     "collapsed": false,
     "input": [
      "# The Epsilon above stictly applies only to python's native float type.\n",
      "# Since we'll presumably be using numpy, let's check it's value also:\n",
      "import numpy\n",
      "print \"Numpy sees the native float epsilon as: \",numpy.finfo(float).eps\n",
      "print \"Epsilons of other float types:\"\n",
      "print \"32 bit:\", numpy.finfo(numpy.float32).eps\n",
      "print \"64 bit:\", numpy.finfo(numpy.float64).eps\n",
      "print \"128 bit:\", numpy.finfo(numpy.float128).eps"
     ],
     "language": "python",
     "metadata": {},
     "outputs": [
      {
       "output_type": "stream",
       "stream": "stdout",
       "text": [
        "Numpy sees the native float epsilon as:  2.22044604925e-16\n",
        "Epsilons of other float types:\n",
        "32 bit: 1.19209e-07\n",
        "64 bit: 2.22044604925e-16\n",
        "128 bit: "
       ]
      },
      {
       "output_type": "stream",
       "stream": "stdout",
       "text": [
        "1.08420217249e-19\n"
       ]
      }
     ],
     "prompt_number": 8
    },
    {
     "cell_type": "code",
     "collapsed": false,
     "input": [
      "# It appears that the native float type is the 64 bit.\n",
      "print 1.0 + numpy.float128(sys.float_info.epsilon)/2 == 1.0,\n",
      "print 1.0 + numpy.float64(sys.float_info.epsilon)/2 == 1.0"
     ],
     "language": "python",
     "metadata": {},
     "outputs": [
      {
       "output_type": "stream",
       "stream": "stdout",
       "text": [
        "False True\n"
       ]
      }
     ],
     "prompt_number": 13
    },
    {
     "cell_type": "code",
     "collapsed": false,
     "input": [],
     "language": "python",
     "metadata": {},
     "outputs": []
    }
   ],
   "metadata": {}
  }
 ]
}