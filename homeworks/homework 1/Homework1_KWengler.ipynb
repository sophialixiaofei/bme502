{
 "metadata": {
  "name": "",
  "signature": "sha256:d9e85daa1a6454b986eefbb95e4e68a841586dd79c34e949cd0bd74f3d918710"
 },
 "nbformat": 3,
 "nbformat_minor": 0,
 "worksheets": [
  {
   "cells": [
    {
     "cell_type": "code",
     "collapsed": false,
     "input": [
      "epsilon = 1.0\n",
      "while 1.0 + epsilon > 1.0:\n",
      "    old_epsilon = epsilon\n",
      "    epsilon = epsilon / 2.0\n",
      "print ('epsilon ='),    \n",
      "print old_epsilon"
     ],
     "language": "python",
     "metadata": {},
     "outputs": [
      {
       "output_type": "stream",
       "stream": "stdout",
       "text": [
        "epsilon = 2.22044604925e-16\n"
       ]
      }
     ],
     "prompt_number": 3
    },
    {
     "cell_type": "code",
     "collapsed": false,
     "input": [],
     "language": "python",
     "metadata": {},
     "outputs": []
    }
   ],
   "metadata": {}
  }
 ]
}